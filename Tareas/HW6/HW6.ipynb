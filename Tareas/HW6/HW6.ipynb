{
 "metadata": {
  "name": "",
  "signature": "sha256:7703e319fc80ffc596cc77c5978dbaad8f02c80077b94ce57049130075d56adc"
 },
 "nbformat": 3,
 "nbformat_minor": 0,
 "worksheets": [
  {
   "cells": [
    {
     "cell_type": "code",
     "collapsed": false,
     "input": [
      "#Trabajo realizado por Alfredo Ricci V\u00e1squez y Nicol\u00e1s Rangel Jurado.\n",
      "%pylab inline\n",
      "from sympy import *\n",
      "init_printing(use_unicode=True)\n",
      "from scipy import interpolate as inte"
     ],
     "language": "python",
     "metadata": {},
     "outputs": [
      {
       "output_type": "stream",
       "stream": "stdout",
       "text": [
        "Populating the interactive namespace from numpy and matplotlib\n"
       ]
      }
     ],
     "prompt_number": 1
    },
    {
     "cell_type": "heading",
     "level": 1,
     "metadata": {},
     "source": [
      "Parte 1"
     ]
    },
    {
     "cell_type": "heading",
     "level": 3,
     "metadata": {},
     "source": [
      "Punto A"
     ]
    },
    {
     "cell_type": "code",
     "collapsed": false,
     "input": [
      "def lagrange(N):\n",
      "   \n",
      "    t,f,h= symbols('t f h')\n",
      "    \n",
      "    Ts=list([])\n",
      "    Fs=list([])\n",
      "    polis=[]\n",
      "        \n",
      "    for i in range (0,N):\n",
      "        \n",
      "        #Creamos dos listas de s\u00edmbolos para operar posteriormente.\n",
      "        tt=symbols(\"t\"+ str(i))\n",
      "        f=symbols(\"f\"+ str(i))\n",
      "        Ts.append(tt)\n",
      "        Fs.append(f)\n",
      "        \n",
      "        poli=0\n",
      "        \n",
      "        \n",
      "        polis.append(Fs[i])  #Este es el primer factor del cada subpolinomio \n",
      "         \n",
      "    for x in range (0,N):\n",
      "        for j in range (0,N):\n",
      "            \n",
      "            if (j!=x):\n",
      "        \n",
      "                polis[x]=polis[x]*(t-Ts[j])\n",
      "                polis[x]=polis[x]/(Ts[x]-Ts[j])\n",
      "            \n",
      "    poli=sum(polis)        \n",
      "    \n",
      "    \n",
      "    return(poli)  "
     ],
     "language": "python",
     "metadata": {},
     "outputs": [],
     "prompt_number": 2
    },
    {
     "cell_type": "code",
     "collapsed": false,
     "input": [
      "lagrange(2)"
     ],
     "language": "python",
     "metadata": {},
     "outputs": [
      {
       "latex": [
        "$$\\frac{f_{0} \\left(t - t_{1}\\right)}{t_{0} - t_{1}} + \\frac{f_{1} \\left(t - t_{0}\\right)}{- t_{0} + t_{1}}$$"
       ],
       "metadata": {},
       "output_type": "pyout",
       "png": "[encoded data removed]",
       "prompt_number": 3,
       "text": [
        "f\u2080\u22c5(t - t\u2081)   f\u2081\u22c5(t - t\u2080)\n",
        "\u2500\u2500\u2500\u2500\u2500\u2500\u2500\u2500\u2500\u2500\u2500 + \u2500\u2500\u2500\u2500\u2500\u2500\u2500\u2500\u2500\u2500\u2500\n",
        "  t\u2080 - t\u2081       -t\u2080 + t\u2081 "
       ]
      }
     ],
     "prompt_number": 3
    },
    {
     "cell_type": "heading",
     "level": 3,
     "metadata": {},
     "source": [
      "Punto B"
     ]
    },
    {
     "cell_type": "code",
     "collapsed": false,
     "input": [
      "def adams(m):\n",
      "    \n",
      "    fun=lagrange(m)\n",
      "    \n",
      "    t,f,h,t0= symbols('t f h t0')  #Declaro s\u00edmbolos que aparecen en la funci\u00f3n fun.\n",
      "    listaT=list(symbols('t:%d'%m)) #Crea m cantidad de s\u00edmbolos para t.\n",
      "\n",
      "    listaTemp=[] #En esta lista guardar\u00e9 los t's expresados en t\u00e9rminos de t0 y h como lo pide el enunciado para poder hacer los reemplazos necesarios.\n",
      "    \n",
      "    for i in range(m):\n",
      "        \n",
      "        #Este ciclo justamente es para generar las igualdades descritas anteriormente.\n",
      "        igualdad=(listaT[i],listaT[0]-i*h)\n",
      "        listaTemp.append(igualdad)\n",
      "        \n",
      "    fun=fun.subs(listaTemp) #la funci\u00f3n .subs me permite hacer los reemplazos necesarios para poder dejar todo el polinomio en funcion de dos t\u00e9rminos.\n",
      "    resp=integrate((fun),(t,t0,t0+h))  #Se integra la funci\u00f3n como pide el m\u00e9todo Adams-Bashforth.\n",
      "    \n",
      "    return(simplify(resp))"
     ],
     "language": "python",
     "metadata": {},
     "outputs": [],
     "prompt_number": 4
    },
    {
     "cell_type": "code",
     "collapsed": false,
     "input": [
      "adams(5)"
     ],
     "language": "python",
     "metadata": {},
     "outputs": [
      {
       "latex": [
        "$$\\frac{h}{720} \\left(1901 f_{0} - 2774 f_{1} + 2616 f_{2} - 1274 f_{3} + 251 f_{4}\\right)$$"
       ],
       "metadata": {},
       "output_type": "pyout",
       "png": "[encoded data removed]",
       "prompt_number": 5,
       "text": [
        "h\u22c5(1901\u22c5f\u2080 - 2774\u22c5f\u2081 + 2616\u22c5f\u2082 - 1274\u22c5f\u2083 + 251\u22c5f\u2084)\n",
        "\u2500\u2500\u2500\u2500\u2500\u2500\u2500\u2500\u2500\u2500\u2500\u2500\u2500\u2500\u2500\u2500\u2500\u2500\u2500\u2500\u2500\u2500\u2500\u2500\u2500\u2500\u2500\u2500\u2500\u2500\u2500\u2500\u2500\u2500\u2500\u2500\u2500\u2500\u2500\u2500\u2500\u2500\u2500\u2500\u2500\u2500\u2500\u2500\u2500\u2500\n",
        "                       720                        "
       ]
      }
     ],
     "prompt_number": 5
    },
    {
     "cell_type": "heading",
     "level": 1,
     "metadata": {},
     "source": [
      "Parte B"
     ]
    },
    {
     "cell_type": "heading",
     "level": 3,
     "metadata": {},
     "source": [
      "Punto A"
     ]
    },
    {
     "cell_type": "code",
     "collapsed": false,
     "input": [
      "%pylab inline"
     ],
     "language": "python",
     "metadata": {},
     "outputs": [
      {
       "output_type": "stream",
       "stream": "stdout",
       "text": [
        "Populating the interactive namespace from numpy and matplotlib\n"
       ]
      },
      {
       "output_type": "stream",
       "stream": "stderr",
       "text": [
        "WARNING: pylab import has clobbered these variables: ['cos', 'poly', 'det', 'product', 'Circle', 'solve', 'floor', 'conjugate', 'diag', 'seterr', 'Polygon', 'plotting', 'binomial', 'flatten', 'tan', 'trace', 'prod', 'log', 'roots', 'trunc', 'add', 'tanh', 'sinh', 'nan', 'diff', 'transpose', 'sqrt', 'plot', 'interactive', 'exp', 'power', 'multinomial', 'vectorize', 'cosh', 'sin', 'reshape', 'pi', 'mod', 'test', 'eye', 'sign', 'take', 'zeros', 'invert', 'beta', 'var', 'source', 'gamma', 'ones']\n",
        "`%matplotlib` prevents importing * from pylab and numpy\n"
       ]
      }
     ],
     "prompt_number": 6
    },
    {
     "cell_type": "code",
     "collapsed": false,
     "input": [
      "#DEfinimos las constantes a usar en el prblema\n",
      "g=6.67348*10**(-11) # unidades SI\n",
      "den=400*4*pi*g # en kg/m3 la densidad\n",
      "L=3000 # en m\n",
      "Nl=101 # para tener 3km\n",
      "xmin=-L/2\n",
      "xmax= L/2\n",
      "ymin=-L/2\n",
      "ymax= L/2\n",
      "zmin=-L/2\n",
      "zmax=-L/2\n",
      "#Creamos las coordenadas de los tres ejes\n",
      "xcoords=np.linspace(xmin,xmax,Nl)\n",
      "ycoords=np.linspace(ymin,ymax,Nl)\n",
      "zcoords=np.linspace(ymin,ymax,Nl)\n",
      "xmesh,ymesh,zmesh=np.meshgrid(xcoords,ycoords,zcoords)\n",
      "Dx=(xmax-xmin)/Nl\n",
      "density=np.zeros((Nl,Nl,Nl))\n",
      "#ajustamos el cubo, como una densidad particular\n",
      "density[47:55,47:55,47:55]=den          \n",
      "field=g*400*270**3/sqrt(xmesh**2+ymesh**2+zmesh**2)  \n",
      "#evitamos la divis\u00f3n entre cero.\n",
      "field[50,50,50]=field[50,50,49]\n",
      "NumIter=5000"
     ],
     "language": "python",
     "metadata": {},
     "outputs": [
      {
       "output_type": "stream",
       "stream": "stderr",
       "text": [
        "-c:21: RuntimeWarning: divide by zero encountered in true_divide\n"
       ]
      }
     ],
     "prompt_number": 7
    },
    {
     "cell_type": "code",
     "collapsed": false,
     "input": [
      "#iteramos para poder solucionar la ecuaci\u00f3n.\n",
      "scaled_density=Dx**2*density\n",
      "for __ in range(NumIter):\n",
      "    field=1/6.*(np.roll(field,1,axis=0)+np.roll(field,-1,axis=0)+np.roll(field,1,axis=1)+np.roll(field,-1,axis=1)+np.roll(field,1,axis=2)+np.roll(field,-1,axis=2)-scaled_density)\n",
      "    field[0]=0.\n",
      "    field[-1]=0.\n",
      "    field[:,0]=0.\n",
      "    field[:,-1]=0.\n",
      "    field[:,:,0]=0.\n",
      "    field[:,:,-1]=0."
     ],
     "language": "python",
     "metadata": {},
     "outputs": [],
     "prompt_number": 8
    },
    {
     "cell_type": "code",
     "collapsed": false,
     "input": [
      "#Graficamos lo encontrado.\n",
      "figure(figsize=(12,10))\n",
      "planoyz=field[51]\n",
      "plt.pcolor(ymesh[:,51],zmesh[51],planoyz,cmap='gist_heat')\n",
      "plt.colorbar()\n",
      "plt.contour(ymesh[:,51],zmesh[51],planoyz,[-16,-8,-4,-2,-1],color='black')\n",
      "plt.xlim(xmin,xmax)\n",
      "plt.ylim(ymin,ymax)\n",
      "title(\"Potencial Gravitacional\")\n",
      "ylabel(\"y(m)\")\n",
      "xlabel(\"z(m)\")\n",
      "plt.show()"
     ],
     "language": "python",
     "metadata": {},
     "outputs": [
      {
       "metadata": {},
       "output_type": "display_data",
       "png": "[encoded data removed]",
       "text": [
        "<matplotlib.figure.Figure at 0x10aca7668>"
       ]
      }
     ],
     "prompt_number": 9
    },
    {
     "cell_type": "heading",
     "level": 3,
     "metadata": {},
     "source": [
      "Punto B"
     ]
    },
    {
     "cell_type": "code",
     "collapsed": false,
     "input": [
      "#Se grafica un corte transversal\n",
      "figure(figsize(10,10))\n",
      "planoyz=field[51]\n",
      "ejez=field[51,51]\n",
      "plot(zcoords,ejez,\"o\",ms=3)\n",
      "title(\"Potencial Gravitacional\")\n",
      "ylabel(\"Potencial\")\n",
      "ylabel(\"z(m)\")"
     ],
     "language": "python",
     "metadata": {},
     "outputs": [
      {
       "metadata": {},
       "output_type": "pyout",
       "prompt_number": 26,
       "text": [
        "<matplotlib.text.Text at 0x10f99d5f8>"
       ]
      },
      {
       "metadata": {},
       "output_type": "display_data",
       "png": "[encoded data removed]",
       "text": [
        "<matplotlib.figure.Figure at 0x10f776748>"
       ]
      }
     ],
     "prompt_number": 26
    },
    {
     "cell_type": "code",
     "collapsed": false,
     "input": [
      "#Se repite el proceso anterior, usando varias masas puntuales\n",
      "masaN=(400*270**3)/(9**3)\n",
      "field1=g*masaN/sqrt(xmesh**2+ymesh**2+zmesh**2)\n",
      "scaled_density=Dx**2*density\n",
      "for __ in range(NumIter):\n",
      "    field1=1/6.*(np.roll(field,1,axis=0)+np.roll(field,-1,axis=0)+np.roll(field,1,axis=1)+np.roll(field,-1,axis=1)+np.roll(field,1,axis=2)+np.roll(field,-1,axis=2)-scaled_density)\n",
      "    field1[0]=0.\n",
      "    field1[-1]=0.\n",
      "    field1[:,0]=0.\n",
      "    field1[:,-1]=0.\n",
      "    field1[:,:,0]=0.\n",
      "    field1[:,:,-1]=0.\n",
      "field1=field1*(9**3)\n",
      "field1[50,50,50]=field1[50,50,49]"
     ],
     "language": "python",
     "metadata": {},
     "outputs": [],
     "prompt_number": 23
    },
    {
     "cell_type": "code",
     "collapsed": false,
     "input": [
      "#Se grafica un corte transversal\n",
      "figure(figsize(10,10))\n",
      "planoyz=field[51]\n",
      "ejez=field[51,51]\n",
      "ejez1=field1[51,51]\n",
      "plot(zcoords,ejez1)\n",
      "plot(zcoords,ejez,\"o\",ms=3)\n",
      "title(\"Potencial Gravitacional\")\n",
      "ylabel(\"Potencial\")\n",
      "ylabel(\"z(m)\")"
     ],
     "language": "python",
     "metadata": {},
     "outputs": [
      {
       "metadata": {},
       "output_type": "pyout",
       "prompt_number": 27,
       "text": [
        "<matplotlib.text.Text at 0x1054be6d8>"
       ]
      },
      {
       "metadata": {},
       "output_type": "display_data",
       "png": "[encoded data removed]",
       "text": [
        "<matplotlib.figure.Figure at 0x10f7769e8>"
       ]
      }
     ],
     "prompt_number": 27
    },
    {
     "cell_type": "heading",
     "level": 3,
     "metadata": {},
     "source": [
      "Punto C"
     ]
    },
    {
     "cell_type": "code",
     "collapsed": false,
     "input": [
      "zforward = np.roll(ejez,-1) # toma el arreglo y y lo mueve una posici\u00f3n hacia la izquierda\n",
      "zbackward = np.roll(ejez,1)\n",
      "derpot = (zforward-zbackward)/(2.)\n",
      "\n",
      "#Se cmabia de signo debido a la que es \"Menos la derivada\"\n",
      "derpot=-1*derpot\n",
      "#Se eliminan el primer y \u00faltimo dato\n",
      "derpot=derpot[1:-1]"
     ],
     "language": "python",
     "metadata": {},
     "outputs": [],
     "prompt_number": 11
    },
    {
     "cell_type": "code",
     "collapsed": false,
     "input": [
      "figure(figsize(10,10))\n",
      "plot(zcoords[1:-1],derpot,\"o\",ms=3)\n",
      "title(\"Campo gravitatorio\")\n",
      "xlabel(\"z(m)\")\n",
      "ylabel(\"Campo gravitatorio\")"
     ],
     "language": "python",
     "metadata": {},
     "outputs": [
      {
       "metadata": {},
       "output_type": "pyout",
       "prompt_number": 12,
       "text": [
        "<matplotlib.text.Text at 0x10fb52ac8>"
       ]
      },
      {
       "metadata": {},
       "output_type": "display_data",
       "png": "[encoded data removed]",
       "text": [
        "<matplotlib.figure.Figure at 0x10accd668>"
       ]
      }
     ],
     "prompt_number": 12
    },
    {
     "cell_type": "heading",
     "level": 3,
     "metadata": {},
     "source": [
      "Punto D"
     ]
    },
    {
     "cell_type": "code",
     "collapsed": false,
     "input": [
      "#Interpolamos los datos.\n",
      "interpol=inte.interpolate.interp1d(zcoords[1:-1],derpot)"
     ],
     "language": "python",
     "metadata": {},
     "outputs": [],
     "prompt_number": 13
    },
    {
     "cell_type": "code",
     "collapsed": false,
     "input": [
      "#Se usan ecuaciones de movimiento rectilineo, durante tramos cortos para aproximar el movimiento\n",
      "def VelocidadFinal(vo,a,x):\n",
      "    #Definimos velocidad final, en terminos de velocidad inicial aceleraci\u00f3n y distancia.\n",
      "    vf=-1*sqrt(abs(vo**2+2*a*x))\n",
      "    return(vf)"
     ],
     "language": "python",
     "metadata": {},
     "outputs": [],
     "prompt_number": 14
    },
    {
     "cell_type": "code",
     "collapsed": false,
     "input": [
      "def darDeltaT(vo,vf,a):\n",
      "    #entregamos el tiempo en ese peque\u00f1o intervalo de distancia.\n",
      "    return (vf-vo)/a"
     ],
     "language": "python",
     "metadata": {},
     "outputs": [],
     "prompt_number": 15
    },
    {
     "cell_type": "code",
     "collapsed": false,
     "input": [
      "#definimos constantes iniciales\n",
      "xi=500\n",
      "vi=0\n",
      "xstep=-0.01\n",
      "tiempoTot=0\n",
      "#Recorremos hasta llegar a la cara\n",
      "while(xi>0):\n",
      "    #Encontramos el cambio de tiempo para el instante.\n",
      "    dt=darDeltaT(vi,VelocidadFinal(vi,interpol(xi),xstep),interpol(xi))\n",
      "    tiempoTot+=dt\n",
      "    xi+=xstep\n",
      "    vi=VelocidadFinal(vi,interpol(xi),xstep)# Ajustamos la nueva velocidad inicial, como la final del paso anterior.\n",
      "print(\"El tiempo necesario para llegar al cubo fue de: \", tiempoTot, \"segundos\") "
     ],
     "language": "python",
     "metadata": {},
     "outputs": [
      {
       "output_type": "stream",
       "stream": "stdout",
       "text": [
        "El tiempo necesario para llegar al cubo fue de:  3814.44472169 segundos\n"
       ]
      }
     ],
     "prompt_number": 16
    }
   ],
   "metadata": {}
  }
 ]
}