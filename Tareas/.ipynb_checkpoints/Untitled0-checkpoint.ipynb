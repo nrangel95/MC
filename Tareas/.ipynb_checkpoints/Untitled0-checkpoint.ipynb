{
 "metadata": {
  "name": "",
  "signature": "sha256:3aee09f27c90caf69d9a7aa25c01c34acf4bdbda2fbaca8c865665d2e8a44ae9"
 },
 "nbformat": 3,
 "nbformat_minor": 0,
 "worksheets": []
}